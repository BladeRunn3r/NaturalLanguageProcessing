{
 "cells": [
  {
   "cell_type": "code",
   "execution_count": 1,
   "metadata": {},
   "outputs": [
    {
     "name": "stderr",
     "output_type": "stream",
     "text": [
      "[nltk_data] Downloading package punkt to\n",
      "[nltk_data]     /home/bladerunn3r/nltk_data...\n",
      "[nltk_data]   Package punkt is already up-to-date!\n",
      "[nltk_data] Downloading package universal_tagset to\n",
      "[nltk_data]     /home/bladerunn3r/nltk_data...\n",
      "[nltk_data]   Package universal_tagset is already up-to-date!\n"
     ]
    },
    {
     "data": {
      "text/plain": [
       "[('Add', 'NOUN'),\n",
       " ('two', 'NUM'),\n",
       " ('kitkats', 'NOUN'),\n",
       " ('for', 'ADP'),\n",
       " ('2', 'NUM'),\n",
       " ('dollars', 'NOUN'),\n",
       " ('and', 'CONJ'),\n",
       " ('one', 'NUM'),\n",
       " ('mars', 'NOUN'),\n",
       " ('for', 'ADP'),\n",
       " ('1.5', 'NUM'),\n",
       " ('dollars', 'NOUN')]"
      ]
     },
     "execution_count": 1,
     "metadata": {},
     "output_type": "execute_result"
    }
   ],
   "source": [
    "import nltk\n",
    "nltk.download('punkt')\n",
    "nltk.download('universal_tagset')\n",
    "sntc = 'Add two kitkats for 2 dollars and one mars for 1.5 dollars'\n",
    "nltk.pos_tag(nltk.word_tokenize(sntc), tagset='universal')"
   ]
  },
  {
   "cell_type": "markdown",
   "metadata": {},
   "source": [
    " - We can recognize some basic currencies (probably after applying lemmatizer)\n",
    " - For as a keyword? Then NUM before for is the NOUN amount, NUM after for is NOUN price \n",
    " - Maybe better idea: -> we recognize currency ->  then NOUN before recognized currency is the NOUN we look for\n",
    " - What if currency is not provided? Then user could bo prompted to provide it - in real world there is always some kind of currency\n",
    " - We should definitely prompt user to provide 'better' sentence when we decide that provided one does not insert anything to db\n",
    " - In such approach we dont care what is already in db -> we always decide on the spot; it was actually the initial idea - db could as well be empty "
   ]
  },
  {
   "cell_type": "code",
   "execution_count": 2,
   "metadata": {},
   "outputs": [
    {
     "name": "stderr",
     "output_type": "stream",
     "text": [
      "[nltk_data] Downloading package punkt to\n",
      "[nltk_data]     /home/bladerunn3r/nltk_data...\n",
      "[nltk_data]   Package punkt is already up-to-date!\n",
      "[nltk_data] Downloading package wordnet to\n",
      "[nltk_data]     /home/bladerunn3r/nltk_data...\n",
      "[nltk_data]   Package wordnet is already up-to-date!\n"
     ]
    },
    {
     "name": "stdout",
     "output_type": "stream",
     "text": [
      "Add\n",
      "two\n",
      "bun\n",
      "for\n",
      "2\n",
      "dollar\n",
      "and\n",
      "two\n",
      "candy\n",
      "for\n",
      "1.5\n",
      "dollar\n"
     ]
    }
   ],
   "source": [
    "import nltk\n",
    "nltk.download('punkt')\n",
    "nltk.download('wordnet')\n",
    "#lemmatizer - real db\n",
    "from nltk.stem import WordNetLemmatizer\n",
    "wnl = WordNetLemmatizer()\n",
    "# sntc = 'Add two KitKats for 2 dollars and one mars for 1.5 dollars'\n",
    "sntc = 'Add two buns for 2 dollars and two candies for 1.5 dollars'\n",
    "tokens = nltk.word_tokenize(sntc)\n",
    "for t in tokens:\n",
    "    print(wnl.lemmatize(t))\n",
    "# doesnt work well with brands, ok without"
   ]
  },
  {
   "cell_type": "code",
   "execution_count": 3,
   "metadata": {},
   "outputs": [
    {
     "name": "stderr",
     "output_type": "stream",
     "text": [
      "[nltk_data] Downloading package stopwords to\n",
      "[nltk_data]     /home/bladerunn3r/nltk_data...\n",
      "[nltk_data]   Package stopwords is already up-to-date!\n"
     ]
    },
    {
     "data": {
      "text/plain": [
       "['i',\n",
       " 'me',\n",
       " 'my',\n",
       " 'myself',\n",
       " 'we',\n",
       " 'our',\n",
       " 'ours',\n",
       " 'ourselves',\n",
       " 'you',\n",
       " \"you're\",\n",
       " \"you've\",\n",
       " \"you'll\",\n",
       " \"you'd\",\n",
       " 'your',\n",
       " 'yours',\n",
       " 'yourself',\n",
       " 'yourselves',\n",
       " 'he',\n",
       " 'him',\n",
       " 'his',\n",
       " 'himself',\n",
       " 'she',\n",
       " \"she's\",\n",
       " 'her',\n",
       " 'hers',\n",
       " 'herself',\n",
       " 'it',\n",
       " \"it's\",\n",
       " 'its',\n",
       " 'itself',\n",
       " 'they',\n",
       " 'them',\n",
       " 'their',\n",
       " 'theirs',\n",
       " 'themselves',\n",
       " 'what',\n",
       " 'which',\n",
       " 'who',\n",
       " 'whom',\n",
       " 'this',\n",
       " 'that',\n",
       " \"that'll\",\n",
       " 'these',\n",
       " 'those',\n",
       " 'am',\n",
       " 'is',\n",
       " 'are',\n",
       " 'was',\n",
       " 'were',\n",
       " 'be',\n",
       " 'been',\n",
       " 'being',\n",
       " 'have',\n",
       " 'has',\n",
       " 'had',\n",
       " 'having',\n",
       " 'do',\n",
       " 'does',\n",
       " 'did',\n",
       " 'doing',\n",
       " 'a',\n",
       " 'an',\n",
       " 'the',\n",
       " 'and',\n",
       " 'but',\n",
       " 'if',\n",
       " 'or',\n",
       " 'because',\n",
       " 'as',\n",
       " 'until',\n",
       " 'while',\n",
       " 'of',\n",
       " 'at',\n",
       " 'by',\n",
       " 'for',\n",
       " 'with',\n",
       " 'about',\n",
       " 'against',\n",
       " 'between',\n",
       " 'into',\n",
       " 'through',\n",
       " 'during',\n",
       " 'before',\n",
       " 'after',\n",
       " 'above',\n",
       " 'below',\n",
       " 'to',\n",
       " 'from',\n",
       " 'up',\n",
       " 'down',\n",
       " 'in',\n",
       " 'out',\n",
       " 'on',\n",
       " 'off',\n",
       " 'over',\n",
       " 'under',\n",
       " 'again',\n",
       " 'further',\n",
       " 'then',\n",
       " 'once',\n",
       " 'here',\n",
       " 'there',\n",
       " 'when',\n",
       " 'where',\n",
       " 'why',\n",
       " 'how',\n",
       " 'all',\n",
       " 'any',\n",
       " 'both',\n",
       " 'each',\n",
       " 'few',\n",
       " 'more',\n",
       " 'most',\n",
       " 'other',\n",
       " 'some',\n",
       " 'such',\n",
       " 'no',\n",
       " 'nor',\n",
       " 'not',\n",
       " 'only',\n",
       " 'own',\n",
       " 'same',\n",
       " 'so',\n",
       " 'than',\n",
       " 'too',\n",
       " 'very',\n",
       " 's',\n",
       " 't',\n",
       " 'can',\n",
       " 'will',\n",
       " 'just',\n",
       " 'don',\n",
       " \"don't\",\n",
       " 'should',\n",
       " \"should've\",\n",
       " 'now',\n",
       " 'd',\n",
       " 'll',\n",
       " 'm',\n",
       " 'o',\n",
       " 're',\n",
       " 've',\n",
       " 'y',\n",
       " 'ain',\n",
       " 'aren',\n",
       " \"aren't\",\n",
       " 'couldn',\n",
       " \"couldn't\",\n",
       " 'didn',\n",
       " \"didn't\",\n",
       " 'doesn',\n",
       " \"doesn't\",\n",
       " 'hadn',\n",
       " \"hadn't\",\n",
       " 'hasn',\n",
       " \"hasn't\",\n",
       " 'haven',\n",
       " \"haven't\",\n",
       " 'isn',\n",
       " \"isn't\",\n",
       " 'ma',\n",
       " 'mightn',\n",
       " \"mightn't\",\n",
       " 'mustn',\n",
       " \"mustn't\",\n",
       " 'needn',\n",
       " \"needn't\",\n",
       " 'shan',\n",
       " \"shan't\",\n",
       " 'shouldn',\n",
       " \"shouldn't\",\n",
       " 'wasn',\n",
       " \"wasn't\",\n",
       " 'weren',\n",
       " \"weren't\",\n",
       " 'won',\n",
       " \"won't\",\n",
       " 'wouldn',\n",
       " \"wouldn't\"]"
      ]
     },
     "execution_count": 3,
     "metadata": {},
     "output_type": "execute_result"
    }
   ],
   "source": [
    "#stopwords\n",
    "from nltk.corpus import stopwords\n",
    "nltk.download('stopwords')\n",
    "stopwords.words(\"english\")\n",
    "# for 'few' or 'some' user should be prompted to precise statement \n",
    "# rather than just remove it\n",
    "\n",
    "# maybe cast all to lowercase to avoid separate KitKat and kitkat"
   ]
  },
  {
   "cell_type": "code",
   "execution_count": 27,
   "metadata": {},
   "outputs": [
    {
     "name": "stdout",
     "output_type": "stream",
     "text": [
      "d\n",
      "{'qd', 'ud', 'od', 'kd', 'nd', 'vd', 'wd', 'rd', 'id', 'cd', 'gd', 'hd', 'ed', 'ld', 'jd', 'pd', 'sd', 'md', 'yd', 'bd', 'td', 'ad', 'dd', 'xd', 'd'}\n",
      "buns\n",
      "{'buss', 'bunds', 'buns', 'bunks'}\n",
      "dollars\n",
      "{'molars', 'dollars'}\n",
      "two\n",
      "{'two', 'tww'}\n",
      "indies\n",
      "{'undies', 'indies', 'dandies', 'candles', 'candied', 'caddies', 'windies'}\n"
     ]
    }
   ],
   "source": [
    "#pyspellchecker\n",
    "import nltk\n",
    "from spellchecker import SpellChecker\n",
    "spell = SpellChecker()\n",
    "sntc = 'Ad twwo bunss for 2 dolars and two cqndies for 1.5 dollars'\n",
    "misspelled = spell.unknown(nltk.word_tokenize(sntc))\n",
    "\n",
    "for word in misspelled:\n",
    "    # Get the one `most likely` answer\n",
    "    print(spell.correction(word))\n",
    "\n",
    "    # Get a list of `likely` options\n",
    "    print(spell.candidates(word))\n",
    "    \n",
    "# works ok for simplest mistakes"
   ]
  },
  {
   "cell_type": "code",
   "execution_count": 1,
   "metadata": {},
   "outputs": [
    {
     "data": {
      "text/plain": [
       "'Ad two buns for 2 dollars and two candies for 1.5 dollars'"
      ]
     },
     "execution_count": 1,
     "metadata": {},
     "output_type": "execute_result"
    }
   ],
   "source": [
    "import jamspell\n",
    "corrector = jamspell.TSpellCorrector()\n",
    "corrector.LoadLangModel('en.bin') #uses already trained network (60mb binary)\n",
    "# overkill, works a bit better\n",
    "\n",
    "sntc = 'Ad twwo bunss for 2 dolars and two cqndies for 1.5 dollars'\n",
    "corrector.FixFragment(sntc)"
   ]
  },
  {
   "cell_type": "markdown",
   "metadata": {},
   "source": [
    "What to do next:\n",
    "- decide how to extract key info from sentence -> ideas on top\n",
    "- decide which tools to use\n",
    "- add sqlAlchemy\n",
    "- write proper app\n",
    "- more tests"
   ]
  }
 ],
 "metadata": {
  "kernelspec": {
   "display_name": "Python 3",
   "language": "python",
   "name": "python3"
  },
  "language_info": {
   "codemirror_mode": {
    "name": "ipython",
    "version": 3
   },
   "file_extension": ".py",
   "mimetype": "text/x-python",
   "name": "python",
   "nbconvert_exporter": "python",
   "pygments_lexer": "ipython3",
   "version": "3.6.7"
  }
 },
 "nbformat": 4,
 "nbformat_minor": 2
}
