{
 "cells": [
  {
   "cell_type": "code",
   "execution_count": 5,
   "metadata": {},
   "outputs": [
    {
     "name": "stdout",
     "output_type": "stream",
     "text": [
      "Add add VERB VB ( verb, base form ) ROOT ( None )\n",
      "two two NUM CD ( cardinal number ) nummod ( None )\n",
      "KitKats kitkat NOUN NNS ( noun, plural ) dobj ( direct object )\n",
      "for for ADP IN ( conjunction, subordinating or preposition ) prep ( prepositional modifier )\n",
      "2 2 NUM CD ( cardinal number ) nummod ( None )\n",
      "dollars dollar NOUN NNS ( noun, plural ) pobj ( object of preposition )\n",
      "and and CCONJ CC ( conjunction, coordinating ) cc ( coordinating conjunction )\n",
      "one one NUM CD ( cardinal number ) nummod ( None )\n",
      "Mars mars PROPN NNP ( noun, proper singular ) conj ( conjunct )\n",
      "for for ADP IN ( conjunction, subordinating or preposition ) prep ( prepositional modifier )\n",
      "1.5 1.5 NUM CD ( cardinal number ) nummod ( None )\n",
      "dollars dollar NOUN NNS ( noun, plural ) pobj ( object of preposition )\n",
      "\n",
      "\n",
      "Add add VERB VB ( verb, base form ) ROOT ( None )\n",
      "two two NUM CD ( cardinal number ) nummod ( None )\n",
      "kitkats kitkat NOUN NNS ( noun, plural ) dobj ( direct object )\n",
      "for for ADP IN ( conjunction, subordinating or preposition ) prep ( prepositional modifier )\n",
      "2 2 NUM CD ( cardinal number ) nummod ( None )\n",
      "dollars dollar NOUN NNS ( noun, plural ) pobj ( object of preposition )\n",
      "and and CCONJ CC ( conjunction, coordinating ) cc ( coordinating conjunction )\n",
      "one one NUM CD ( cardinal number ) nummod ( None )\n",
      "mars mar NOUN NNS ( noun, plural ) conj ( conjunct )\n",
      "for for ADP IN ( conjunction, subordinating or preposition ) prep ( prepositional modifier )\n",
      "1.5 1.5 NUM CD ( cardinal number ) nummod ( None )\n",
      "dollars dollar NOUN NNS ( noun, plural ) pobj ( object of preposition )\n",
      "\n",
      "\n",
      "Add add VERB VB ( verb, base form ) ROOT ( None )\n",
      "two two NUM CD ( cardinal number ) nummod ( None )\n",
      "buns bun NOUN NNS ( noun, plural ) dobj ( direct object )\n",
      "for for ADP IN ( conjunction, subordinating or preposition ) prep ( prepositional modifier )\n",
      "2 2 NUM CD ( cardinal number ) nummod ( None )\n",
      "dollars dollar NOUN NNS ( noun, plural ) pobj ( object of preposition )\n",
      "and and CCONJ CC ( conjunction, coordinating ) cc ( coordinating conjunction )\n",
      "one one NUM CD ( cardinal number ) nummod ( None )\n",
      "candy candy NOUN NN ( noun, singular or mass ) conj ( conjunct )\n",
      "for for ADP IN ( conjunction, subordinating or preposition ) prep ( prepositional modifier )\n",
      "1.5 1.5 NUM CD ( cardinal number ) nummod ( None )\n",
      "dollars dollar NOUN NNS ( noun, plural ) pobj ( object of preposition )\n"
     ]
    }
   ],
   "source": [
    "import spacy\n",
    "nlp = spacy.load('en')\n",
    "def getSntcDetails(sntc):\n",
    "    doc = nlp(sntc)\n",
    "    for token in doc:\n",
    "        print(token.text, token.lemma_, token.pos_,\n",
    "                token.tag_, '(', spacy.explain(token.tag_), ')',\n",
    "                token.dep_, '(', spacy.explain(token.dep_), ')')\n",
    "        \n",
    "getSntcDetails('Add two KitKats for 2 dollars and one Mars for 1.5 dollars')\n",
    "print(\"\\n\")\n",
    "getSntcDetails('Add two kitkats for 2 dollars and one mars for 1.5 dollars')\n",
    "print(\"\\n\")\n",
    "getSntcDetails('Add two buns for 2 dollars and one candy for 1.5 dollars')\n"
   ]
  },
  {
   "cell_type": "markdown",
   "metadata": {},
   "source": [
    "It does understand brands but only when typed correctly - with uppercase letters."
   ]
  },
  {
   "cell_type": "code",
   "execution_count": 4,
   "metadata": {},
   "outputs": [
    {
     "name": "stdout",
     "output_type": "stream",
     "text": [
      "one CARDINAL ( Numerals that do not fall under another type )\n",
      "KitKat GPE ( Countries, cities, states )\n",
      "2 dollars MONEY ( Monetary values, including unit )\n",
      "Mars LOC ( Non-GPE locations, mountain ranges, bodies of water )\n",
      "1.5 dollars MONEY ( Monetary values, including unit )\n",
      "\n",
      "\n",
      "one CARDINAL ( Numerals that do not fall under another type )\n",
      "2 dollars MONEY ( Monetary values, including unit )\n",
      "one CARDINAL ( Numerals that do not fall under another type )\n",
      "1.5 dollars MONEY ( Monetary values, including unit )\n",
      "\n",
      "\n",
      "two CARDINAL ( Numerals that do not fall under another type )\n",
      "KitKats ORG ( Companies, agencies, institutions, etc. )\n",
      "2 dollars MONEY ( Monetary values, including unit )\n",
      "one CARDINAL ( Numerals that do not fall under another type )\n",
      "1.5 dollars MONEY ( Monetary values, including unit )\n",
      "\n",
      "\n",
      "two CARDINAL ( Numerals that do not fall under another type )\n",
      "3 dollars MONEY ( Monetary values, including unit )\n",
      "two CARDINAL ( Numerals that do not fall under another type )\n",
      "1 dollar MONEY ( Monetary values, including unit )\n"
     ]
    }
   ],
   "source": [
    "import spacy\n",
    "nlp = spacy.load('en')\n",
    "def getSntcCategory(sntc):\n",
    "    doc = nlp(sntc)\n",
    "    for ent in doc.ents:\n",
    "        print(ent.text, ent.label_, '(', spacy.explain(ent.label_), ')')\n",
    "            \n",
    "getSntcCategory('Add one KitKat for 2 dollars and one Mars for 1.5 dollars')\n",
    "print(\"\\n\")\n",
    "getSntcCategory('Add one kitkat for 2 dollars and one mars for 1.5 dollars')\n",
    "print(\"\\n\")\n",
    "getSntcCategory('Add two KitKats for 2 dollars and one mars for 1.5 dollars')\n",
    "print(\"\\n\")\n",
    "getSntcCategory('Add two candies for 3 dollars and two buns for 1 dollar')\n"
   ]
  },
  {
   "cell_type": "markdown",
   "metadata": {},
   "source": [
    "KitKat is recognized as \"( Countries, cities, states )\" whereas the plural KitKats correctly as \"( Companies, agencies, institutions, etc. )\". <br>\n",
    "Lowercase is still not recognized. <br>\n",
    "Mars is recognized as a planet :)"
   ]
  }
 ],
 "metadata": {
  "kernelspec": {
   "display_name": "Python 3",
   "language": "python",
   "name": "python3"
  },
  "language_info": {
   "codemirror_mode": {
    "name": "ipython",
    "version": 3
   },
   "file_extension": ".py",
   "mimetype": "text/x-python",
   "name": "python",
   "nbconvert_exporter": "python",
   "pygments_lexer": "ipython3",
   "version": "3.6.7"
  }
 },
 "nbformat": 4,
 "nbformat_minor": 2
}
